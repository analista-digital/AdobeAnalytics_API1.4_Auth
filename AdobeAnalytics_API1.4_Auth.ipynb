{
 "cells": [
  {
   "cell_type": "markdown",
   "metadata": {},
   "source": [
    "# Load Packages"
   ]
  },
  {
   "cell_type": "code",
   "execution_count": 1,
   "metadata": {
    "collapsed": true
   },
   "outputs": [],
   "source": [
    "# import the different packages needed for the script to correctly load\n",
    "import pandas as pd\n",
    "import json\n",
    "from datetime import datetime, date, timedelta\n",
    "import hashlib\n",
    "import requests\n",
    "import os\n",
    "import logging\n",
    "import uuid\n",
    "import binascii"
   ]
  },
  {
   "cell_type": "markdown",
   "metadata": {},
   "source": [
    "# Parameters"
   ]
  },
  {
   "cell_type": "markdown",
   "metadata": {},
   "source": [
    "## Filepaths / Read variables"
   ]
  },
  {
   "cell_type": "code",
   "execution_count": 2,
   "metadata": {},
   "outputs": [],
   "source": [
    "# env.json hat following structure\n",
    "# you may find your data under Web Service in https://sc3.omniture.com/p/suite/1.3/index.html?a=User.GetAccountInfo\n",
    "'''\n",
    "{\n",
    "\t\"omniture\": {\n",
    "\t\t\"username\": \"USER NAME: COMPANY goes here\",\n",
    "\t\t\"secret\": \"SHARED SECRET goes here\",\n",
    "\t\t\"endpoint\": \"https://api.omniture.com/admin/1.4/rest/\"\n",
    "\t}\n",
    "}\n",
    "'''\n",
    "# Use ENV_empty.json from the Repo as template and save it as ENV.json\n",
    "env_path = './ENV_VARIABLES/ENV.json'\n",
    "env_variables = pd.read_json(env_path)"
   ]
  },
  {
   "cell_type": "markdown",
   "metadata": {},
   "source": [
    "## Retrieving variables"
   ]
  },
  {
   "cell_type": "code",
   "execution_count": 3,
   "metadata": {
    "collapsed": true,
    "scrolled": false
   },
   "outputs": [],
   "source": [
    "# does are variables taken from the previous json file and are needed for the Auth with Adobe's APIs\n",
    "USERNAME = env_variables.loc['username']['omniture']\n",
    "SECRET = env_variables.loc['secret']['omniture']\n",
    "DEFAULT_ENDPOINT = env_variables.loc['endpoint']['omniture']"
   ]
  },
  {
   "cell_type": "markdown",
   "metadata": {},
   "source": [
    "## Are you behind a proxy?"
   ]
  },
  {
   "cell_type": "code",
   "execution_count": 4,
   "metadata": {
    "collapsed": true
   },
   "outputs": [],
   "source": [
    "# Add proxies if needed\n",
    "http_proxy  = \"\"\n",
    "https_proxy = \"\"\n",
    "ftp_proxy   = \"\"\n",
    "\n",
    "proxyDict = { \n",
    "              \"http\"  : http_proxy, \n",
    "              \"https\" : https_proxy, \n",
    "              \"ftp\"   : ftp_proxy\n",
    "            }"
   ]
  },
  {
   "cell_type": "markdown",
   "metadata": {},
   "source": [
    "# Functions"
   ]
  },
  {
   "cell_type": "markdown",
   "metadata": {},
   "source": [
    "### Basic API functions (Authenticate, requests)"
   ]
  },
  {
   "cell_type": "code",
   "execution_count": 5,
   "metadata": {
    "collapsed": true
   },
   "outputs": [],
   "source": [
    "def authenticate(username, secret=None, endpoint=DEFAULT_ENDPOINT, prefix='', suffix=''):\n",
    "    \"\"\" Authenticate to the Adobe API using WSSE \"\"\"\n",
    "    # if no secret is specified, we will assume that instead\n",
    "    # we have received a dictionary with credentials (such as\n",
    "    # from os.environ)\n",
    "    if not secret:\n",
    "        source = username\n",
    "        # key_to_username = affix(prefix, 'USERNAME', suffix)\n",
    "        # key_to_secret = affix(prefix, 'SECRET', suffix)\n",
    "        username = USERNAME\n",
    "        secret = SECRET\n",
    "\n",
    "    return Account(username, secret, endpoint)\n",
    "\n",
    "def affix(prefix=None, base=None, suffix=None, connector='_'):\n",
    "    if prefix:\n",
    "        prefix = prefix + connector\n",
    "    else:\n",
    "        prefix = ''\n",
    "\n",
    "    if suffix:\n",
    "        suffix = connector + suffix\n",
    "    else:\n",
    "        suffix = ''\n",
    "\n",
    "    return prefix + base + suffix\n",
    "\n",
    "class Account(object):\n",
    "    \"\"\" A wrapper for the Adobe Analytics API. Allows you to query the reporting API \"\"\"\n",
    "    DEFAULT_ENDPOINT = 'https://api.omniture.com/admin/1.4/rest/'\n",
    "\n",
    "    def __init__(self, username, secret, endpoint=DEFAULT_ENDPOINT, cache=False, cache_key=None):\n",
    "        \"\"\"Authentication to make requests.\"\"\"\n",
    "        self.log = logging.getLogger(__name__)\n",
    "        self.log.info(datetime.now().strftime(\"%Y-%m-%d %I%p:%M:%S\"))\n",
    "        self.username = username\n",
    "        self.secret = secret\n",
    "        self.endpoint = endpoint\n",
    "\n",
    "        self.suites = self.request('Company', 'GetReportSuites')['report_suites']\n",
    "\n",
    "        # suites = [Suite(suite['site_title'], suite['rsid'], self) for suite in data]\n",
    "\n",
    "\n",
    "    def request(self, api, method, query={}):\n",
    "        \"\"\"\n",
    "        Make a request to the Adobe APIs.\n",
    "\n",
    "        * api -- the class of APIs you would like to call (e.g. Report,\n",
    "            ReportSuite, Company, etc.)\n",
    "        * method -- the method you would like to call inside that class\n",
    "            of api\n",
    "        * query -- a python object representing the parameters you would\n",
    "            like to pass to the API\n",
    "        \"\"\"\n",
    "        self.log.info(\"Request: %s.%s  Parameters: %s\", api, method, query)\n",
    "        response = requests.post(\n",
    "            self.endpoint,\n",
    "            params={'method': api + '.' + method},\n",
    "            data=json.dumps(query),\n",
    "            headers=self._build_token(),\n",
    "            proxies=proxyDict\n",
    "            )\n",
    "        self.log.debug(\"Response for %s.%s:%s\", api, method, response.text)\n",
    "        json_response = response.json()\n",
    "\n",
    "        if type(json_response) == dict:\n",
    "            self.log.debug(\"Error Code %s\", json_response.get('error'))\n",
    "            if json_response.get('error') == 'report_not_ready':\n",
    "                return json_response\n",
    "            elif json_response.get('error') != None:\n",
    "                return json_response\n",
    "            else:\n",
    "                return json_response\n",
    "        else:\n",
    "            return json_response\n",
    "\n",
    "    def _build_token(self):\n",
    "        nonce = str(uuid.uuid4())\n",
    "        base64nonce = binascii.b2a_base64(binascii.a2b_qp(nonce))\n",
    "        created_date = datetime.utcnow().isoformat() + 'Z'\n",
    "        sha = nonce + created_date + self.secret\n",
    "        sha_object = hashlib.sha1(sha.encode())\n",
    "        password_64 = binascii.b2a_base64(sha_object.digest())\n",
    "\n",
    "        properties = {\n",
    "            \"Username\": self.username,\n",
    "            \"PasswordDigest\": password_64.decode().strip(),\n",
    "            \"Nonce\": base64nonce.decode().strip(),\n",
    "            \"Created\": created_date,\n",
    "        }\n",
    "        header = 'UsernameToken ' + self._serialize_header(properties)\n",
    "\n",
    "        return {'X-WSSE': header}\n",
    "\n",
    "    def getevars(self, rsid):\n",
    "        \"\"\" Return the list of valid evars for the current report suite \"\"\"\n",
    "        return self.request('ReportSuite', 'GetEvars', query = rsid)\n",
    "\n",
    "\n",
    "    def _serialize_header(self, properties):\n",
    "        header = []\n",
    "        for key, value in properties.items():\n",
    "            header.append('{key}=\"{value}\"'.format(key=key, value=value))\n",
    "        return ', '.join(header)\n"
   ]
  },
  {
   "cell_type": "markdown",
   "metadata": {},
   "source": [
    "# Authenticate Analytics API"
   ]
  },
  {
   "cell_type": "code",
   "execution_count": 6,
   "metadata": {},
   "outputs": [],
   "source": [
    "# initialize connection to adobe\n",
    "analytics = authenticate(os.environ)"
   ]
  }
 ],
 "metadata": {
  "anaconda-cloud": {},
  "kernelspec": {
   "display_name": "Python 3",
   "language": "python",
   "name": "python3"
  },
  "language_info": {
   "codemirror_mode": {
    "name": "ipython",
    "version": 3
   },
   "file_extension": ".py",
   "mimetype": "text/x-python",
   "name": "python",
   "nbconvert_exporter": "python",
   "pygments_lexer": "ipython3",
   "version": "3.6.1"
  }
 },
 "nbformat": 4,
 "nbformat_minor": 2
}
